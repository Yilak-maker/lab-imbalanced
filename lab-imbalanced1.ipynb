{
 "cells": [
  {
   "cell_type": "code",
   "execution_count": 6,
   "id": "7d12421d-0f8a-41b9-9480-d7117a940355",
   "metadata": {},
   "outputs": [],
   "source": [
    "# Libraries\n",
    "import pandas as pd\n",
    "import numpy as np\n",
    "import matplotlib.pyplot as plt\n",
    "import seaborn as sns\n",
    "\n",
    "from sklearn.model_selection import train_test_split\n",
    "from sklearn.linear_model import LogisticRegression\n",
    "from sklearn.metrics import classification_report, confusion_matrix, roc_auc_score\n",
    "from imblearn.over_sampling import RandomOverSampler, SMOTE\n",
    "from imblearn.under_sampling import RandomUnderSampler\n",
    "import warnings\n",
    "\n",
    "# Suppress all warnings\n",
    "warnings.filterwarnings('ignore')\n",
    "\n"
   ]
  },
  {
   "cell_type": "code",
   "execution_count": 7,
   "id": "e00e17aa-abd8-4b70-88d0-8c801adb8389",
   "metadata": {},
   "outputs": [
    {
     "data": {
      "text/html": [
       "<div>\n",
       "<style scoped>\n",
       "    .dataframe tbody tr th:only-of-type {\n",
       "        vertical-align: middle;\n",
       "    }\n",
       "\n",
       "    .dataframe tbody tr th {\n",
       "        vertical-align: top;\n",
       "    }\n",
       "\n",
       "    .dataframe thead th {\n",
       "        text-align: right;\n",
       "    }\n",
       "</style>\n",
       "<table border=\"1\" class=\"dataframe\">\n",
       "  <thead>\n",
       "    <tr style=\"text-align: right;\">\n",
       "      <th></th>\n",
       "      <th>distance_from_home</th>\n",
       "      <th>distance_from_last_transaction</th>\n",
       "      <th>ratio_to_median_purchase_price</th>\n",
       "      <th>repeat_retailer</th>\n",
       "      <th>used_chip</th>\n",
       "      <th>used_pin_number</th>\n",
       "      <th>online_order</th>\n",
       "      <th>fraud</th>\n",
       "    </tr>\n",
       "  </thead>\n",
       "  <tbody>\n",
       "    <tr>\n",
       "      <th>0</th>\n",
       "      <td>57.877857</td>\n",
       "      <td>0.311140</td>\n",
       "      <td>1.945940</td>\n",
       "      <td>1.0</td>\n",
       "      <td>1.0</td>\n",
       "      <td>0.0</td>\n",
       "      <td>0.0</td>\n",
       "      <td>0.0</td>\n",
       "    </tr>\n",
       "    <tr>\n",
       "      <th>1</th>\n",
       "      <td>10.829943</td>\n",
       "      <td>0.175592</td>\n",
       "      <td>1.294219</td>\n",
       "      <td>1.0</td>\n",
       "      <td>0.0</td>\n",
       "      <td>0.0</td>\n",
       "      <td>0.0</td>\n",
       "      <td>0.0</td>\n",
       "    </tr>\n",
       "    <tr>\n",
       "      <th>2</th>\n",
       "      <td>5.091079</td>\n",
       "      <td>0.805153</td>\n",
       "      <td>0.427715</td>\n",
       "      <td>1.0</td>\n",
       "      <td>0.0</td>\n",
       "      <td>0.0</td>\n",
       "      <td>1.0</td>\n",
       "      <td>0.0</td>\n",
       "    </tr>\n",
       "    <tr>\n",
       "      <th>3</th>\n",
       "      <td>2.247564</td>\n",
       "      <td>5.600044</td>\n",
       "      <td>0.362663</td>\n",
       "      <td>1.0</td>\n",
       "      <td>1.0</td>\n",
       "      <td>0.0</td>\n",
       "      <td>1.0</td>\n",
       "      <td>0.0</td>\n",
       "    </tr>\n",
       "    <tr>\n",
       "      <th>4</th>\n",
       "      <td>44.190936</td>\n",
       "      <td>0.566486</td>\n",
       "      <td>2.222767</td>\n",
       "      <td>1.0</td>\n",
       "      <td>1.0</td>\n",
       "      <td>0.0</td>\n",
       "      <td>1.0</td>\n",
       "      <td>0.0</td>\n",
       "    </tr>\n",
       "  </tbody>\n",
       "</table>\n",
       "</div>"
      ],
      "text/plain": [
       "   distance_from_home  distance_from_last_transaction  \\\n",
       "0           57.877857                        0.311140   \n",
       "1           10.829943                        0.175592   \n",
       "2            5.091079                        0.805153   \n",
       "3            2.247564                        5.600044   \n",
       "4           44.190936                        0.566486   \n",
       "\n",
       "   ratio_to_median_purchase_price  repeat_retailer  used_chip  \\\n",
       "0                        1.945940              1.0        1.0   \n",
       "1                        1.294219              1.0        0.0   \n",
       "2                        0.427715              1.0        0.0   \n",
       "3                        0.362663              1.0        1.0   \n",
       "4                        2.222767              1.0        1.0   \n",
       "\n",
       "   used_pin_number  online_order  fraud  \n",
       "0              0.0           0.0    0.0  \n",
       "1              0.0           0.0    0.0  \n",
       "2              0.0           1.0    0.0  \n",
       "3              0.0           1.0    0.0  \n",
       "4              0.0           1.0    0.0  "
      ]
     },
     "execution_count": 7,
     "metadata": {},
     "output_type": "execute_result"
    }
   ],
   "source": [
    "# Load the Data\n",
    "fraud = pd.read_csv(\"https://raw.githubusercontent.com/data-bootcamp-v4/data/main/card_transdata.csv\")\n",
    "fraud.head()"
   ]
  },
  {
   "cell_type": "code",
   "execution_count": 8,
   "id": "9ca3d100-bcb8-44bd-a3ec-e0f7647b8304",
   "metadata": {},
   "outputs": [
    {
     "data": {
      "image/png": "[encoded data removed]",
      "text/plain": [
       "<Figure size 640x480 with 1 Axes>"
      ]
     },
     "metadata": {},
     "output_type": "display_data"
    },
    {
     "name": "stdout",
     "output_type": "stream",
     "text": [
      "fraud\n",
      "0.0    912597\n",
      "1.0     87403\n",
      "Name: count, dtype: int64\n",
      "fraud\n",
      "0.0    0.912597\n",
      "1.0    0.087403\n",
      "Name: proportion, dtype: float64\n"
     ]
    }
   ],
   "source": [
    "#Distribution of Target Variable\n",
    "fraud['fraud'].value_counts(normalize=True).plot(kind=\"bar\", color=['skyblue','salmon'])\n",
    "plt.title(\"Distribution of Fraud vs Legit Transactions\")\n",
    "plt.xticks([0,1], [\"Legit (0)\", \"Fraud (1)\"], rotation=0)\n",
    "plt.show()\n",
    "\n",
    "print(fraud['fraud'].value_counts())\n",
    "print(fraud['fraud'].value_counts(normalize=True))\n"
   ]
  },
  {
   "cell_type": "markdown",
   "id": "ae93265a-994a-4ca6-90b7-689fd242d7d1",
   "metadata": {},
   "source": [
    "## Fraud cases will be much smaller than legit → imbalanced dataset."
   ]
  },
  {
   "cell_type": "code",
   "execution_count": 9,
   "id": "2d695641-9562-4901-8503-2a9cc6aa67ff",
   "metadata": {},
   "outputs": [],
   "source": [
    "# train-test split\n",
    "X = fraud.drop('fraud', axis=1)\n",
    "y = fraud['fraud']\n",
    "\n",
    "X_train, X_test, y_train, y_test = train_test_split(X, y, stratify=y, test_size=0.3, random_state=42)\n"
   ]
  },
  {
   "cell_type": "code",
   "execution_count": 10,
   "id": "852ee322-5d1e-462d-9337-6bbe1bf8dcc5",
   "metadata": {},
   "outputs": [
    {
     "name": "stdout",
     "output_type": "stream",
     "text": [
      "[[271937   1842]\n",
      " [ 10434  15787]]\n",
      "              precision    recall  f1-score   support\n",
      "\n",
      "         0.0     0.9630    0.9933    0.9779    273779\n",
      "         1.0     0.8955    0.6021    0.7200     26221\n",
      "\n",
      "    accuracy                         0.9591    300000\n",
      "   macro avg     0.9293    0.7977    0.8490    300000\n",
      "weighted avg     0.9571    0.9591    0.9554    300000\n",
      "\n",
      "ROC-AUC: 0.9671810632197307\n"
     ]
    }
   ],
   "source": [
    "# base modele- logistic regression\n",
    "log_reg = LogisticRegression(max_iter=1000)\n",
    "log_reg.fit(X_train, y_train)\n",
    "\n",
    "y_pred = log_reg.predict(X_test)\n",
    "y_proba = log_reg.predict_proba(X_test)[:,1]\n",
    "\n",
    "print(confusion_matrix(y_test, y_pred))\n",
    "print(classification_report(y_test, y_pred, digits=4))\n",
    "print(\"ROC-AUC:\", roc_auc_score(y_test, y_proba))\n"
   ]
  },
  {
   "cell_type": "markdown",
   "id": "d9539f57-86a4-4839-a31a-6488a44dca9a",
   "metadata": {},
   "source": [
    "## High accuracy (because of many legit cases), but recall for fraud = low."
   ]
  },
  {
   "cell_type": "code",
   "execution_count": 11,
   "id": "358f97b9-3a12-4dd3-be33-c53690d50dc7",
   "metadata": {},
   "outputs": [
    {
     "name": "stdout",
     "output_type": "stream",
     "text": [
      "Oversampling Results\n",
      "[[255520  18259]\n",
      " [  1357  24864]]\n",
      "              precision    recall  f1-score   support\n",
      "\n",
      "         0.0     0.9947    0.9333    0.9630    273779\n",
      "         1.0     0.5766    0.9482    0.7171     26221\n",
      "\n",
      "    accuracy                         0.9346    300000\n",
      "   macro avg     0.7857    0.9408    0.8401    300000\n",
      "weighted avg     0.9582    0.9346    0.9415    300000\n",
      "\n",
      "ROC-AUC: 0.9795658338368834\n"
     ]
    }
   ],
   "source": [
    "# oversampling \n",
    "ros = RandomOverSampler(random_state=42)\n",
    "X_res, y_res = ros.fit_resample(X_train, y_train)\n",
    "\n",
    "log_reg.fit(X_res, y_res)\n",
    "y_pred_ros = log_reg.predict(X_test)\n",
    "y_proba_ros = log_reg.predict_proba(X_test)[:,1]\n",
    "\n",
    "print(\"Oversampling Results\")\n",
    "print(confusion_matrix(y_test, y_pred_ros))\n",
    "print(classification_report(y_test, y_pred_ros, digits=4))\n",
    "print(\"ROC-AUC:\", roc_auc_score(y_test, y_proba_ros))\n"
   ]
  },
  {
   "cell_type": "markdown",
   "id": "c4c576ba-da99-4921-b5dc-2f4ba56f011b",
   "metadata": {},
   "source": [
    "## better recall for fraud, but maybe more false positives."
   ]
  },
  {
   "cell_type": "code",
   "execution_count": 12,
   "id": "c372c40f-4e0d-4f14-8af4-c1a8cd4d6a27",
   "metadata": {},
   "outputs": [
    {
     "name": "stdout",
     "output_type": "stream",
     "text": [
      "Undersampling Results\n",
      "[[255532  18247]\n",
      " [  1327  24894]]\n",
      "              precision    recall  f1-score   support\n",
      "\n",
      "         0.0     0.9948    0.9334    0.9631    273779\n",
      "         1.0     0.5770    0.9494    0.7178     26221\n",
      "\n",
      "    accuracy                         0.9348    300000\n",
      "   macro avg     0.7859    0.9414    0.8405    300000\n",
      "weighted avg     0.9583    0.9348    0.9417    300000\n",
      "\n",
      "ROC-AUC: 0.9795883704614473\n"
     ]
    }
   ],
   "source": [
    "# undersampling \n",
    "rus = RandomUnderSampler(random_state=42)\n",
    "X_res, y_res = rus.fit_resample(X_train, y_train)\n",
    "\n",
    "log_reg.fit(X_res, y_res)\n",
    "y_pred_rus = log_reg.predict(X_test)\n",
    "y_proba_rus = log_reg.predict_proba(X_test)[:,1]\n",
    "\n",
    "print(\"Undersampling Results\")\n",
    "print(confusion_matrix(y_test, y_pred_rus))\n",
    "print(classification_report(y_test, y_pred_rus, digits=4))\n",
    "print(\"ROC-AUC:\", roc_auc_score(y_test, y_proba_rus))\n"
   ]
  },
  {
   "cell_type": "markdown",
   "id": "49d967a7-495b-4acd-b18d-fba269e6854d",
   "metadata": {},
   "source": [
    "## recall to improve but precision/accuracy to drop, since legit cases are reduced"
   ]
  },
  {
   "cell_type": "code",
   "execution_count": 13,
   "id": "8a737dc6-6cef-4694-8f8c-1598dda22bbc",
   "metadata": {},
   "outputs": [
    {
     "name": "stdout",
     "output_type": "stream",
     "text": [
      "SMOTE Results\n",
      "[[255665  18114]\n",
      " [  1401  24820]]\n",
      "              precision    recall  f1-score   support\n",
      "\n",
      "         0.0     0.9946    0.9338    0.9632    273779\n",
      "         1.0     0.5781    0.9466    0.7178     26221\n",
      "\n",
      "    accuracy                         0.9349    300000\n",
      "   macro avg     0.7863    0.9402    0.8405    300000\n",
      "weighted avg     0.9582    0.9349    0.9418    300000\n",
      "\n",
      "ROC-AUC: 0.9792851153372982\n"
     ]
    }
   ],
   "source": [
    "# SMOT\n",
    "smote = SMOTE(random_state=42)\n",
    "X_res, y_res = smote.fit_resample(X_train, y_train)\n",
    "\n",
    "log_reg.fit(X_res, y_res)\n",
    "y_pred_sm = log_reg.predict(X_test)\n",
    "y_proba_sm = log_reg.predict_proba(X_test)[:,1]\n",
    "\n",
    "print(\"SMOTE Results\")\n",
    "print(confusion_matrix(y_test, y_pred_sm))\n",
    "print(classification_report(y_test, y_pred_sm, digits=4))\n",
    "print(\"ROC-AUC:\", roc_auc_score(y_test, y_proba_sm))\n"
   ]
  },
  {
   "cell_type": "code",
   "execution_count": 14,
   "id": "b4dcd887-8e6b-41ad-940e-57d5be5ed325",
   "metadata": {},
   "outputs": [
    {
     "data": {
      "text/html": [
       "<div>\n",
       "<style scoped>\n",
       "    .dataframe tbody tr th:only-of-type {\n",
       "        vertical-align: middle;\n",
       "    }\n",
       "\n",
       "    .dataframe tbody tr th {\n",
       "        vertical-align: top;\n",
       "    }\n",
       "\n",
       "    .dataframe thead th {\n",
       "        text-align: right;\n",
       "    }\n",
       "</style>\n",
       "<table border=\"1\" class=\"dataframe\">\n",
       "  <thead>\n",
       "    <tr style=\"text-align: right;\">\n",
       "      <th></th>\n",
       "      <th>Model</th>\n",
       "      <th>ROC-AUC</th>\n",
       "    </tr>\n",
       "  </thead>\n",
       "  <tbody>\n",
       "    <tr>\n",
       "      <th>0</th>\n",
       "      <td>Base</td>\n",
       "      <td>0.967181</td>\n",
       "    </tr>\n",
       "    <tr>\n",
       "      <th>1</th>\n",
       "      <td>Oversample</td>\n",
       "      <td>0.979566</td>\n",
       "    </tr>\n",
       "    <tr>\n",
       "      <th>2</th>\n",
       "      <td>Undersample</td>\n",
       "      <td>0.979588</td>\n",
       "    </tr>\n",
       "    <tr>\n",
       "      <th>3</th>\n",
       "      <td>SMOTE</td>\n",
       "      <td>0.979285</td>\n",
       "    </tr>\n",
       "  </tbody>\n",
       "</table>\n",
       "</div>"
      ],
      "text/plain": [
       "         Model   ROC-AUC\n",
       "0         Base  0.967181\n",
       "1   Oversample  0.979566\n",
       "2  Undersample  0.979588\n",
       "3        SMOTE  0.979285"
      ]
     },
     "execution_count": 14,
     "metadata": {},
     "output_type": "execute_result"
    }
   ],
   "source": [
    "# summary table \n",
    "results = {\n",
    "    \"Model\": [\"Base\", \"Oversample\", \"Undersample\", \"SMOTE\"],\n",
    "    \"ROC-AUC\": [\n",
    "        roc_auc_score(y_test, y_proba),\n",
    "        roc_auc_score(y_test, y_proba_ros),\n",
    "        roc_auc_score(y_test, y_proba_rus),\n",
    "        roc_auc_score(y_test, y_proba_sm),\n",
    "    ]\n",
    "}\n",
    "\n",
    "pd.DataFrame(results)\n"
   ]
  },
  {
   "cell_type": "code",
   "execution_count": null,
   "id": "74a2c8f0-d536-4393-b722-421cc528adec",
   "metadata": {},
   "outputs": [],
   "source": []
  }
 ],
 "metadata": {
  "kernelspec": {
   "display_name": "Python 3 (ipykernel)",
   "language": "python",
   "name": "python3"
  },
  "language_info": {
   "codemirror_mode": {
    "name": "ipython",
    "version": 3
   },
   "file_extension": ".py",
   "mimetype": "text/x-python",
   "name": "python",
   "nbconvert_exporter": "python",
   "pygments_lexer": "ipython3",
   "version": "3.11.7"
  }
 },
 "nbformat": 4,
 "nbformat_minor": 5
}
